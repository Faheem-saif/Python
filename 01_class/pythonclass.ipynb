{
 "cells": [
  {
   "cell_type": "markdown",
   "metadata": {},
   "source": [
    "Hello I'm Faheem And ready to start python with Static Types\n",
    "\n"
   ]
  },
  {
   "cell_type": "code",
   "execution_count": 4,
   "metadata": {},
   "outputs": [
    {
     "name": "stdout",
     "output_type": "stream",
     "text": [
      "Faheem saif\n"
     ]
    }
   ],
   "source": [
    "\n",
    "name:str = \"Faheem saif\"\n",
    "print(name)\n"
   ]
  },
  {
   "cell_type": "markdown",
   "metadata": {},
   "source": [
    "#2nd class main topic is string \n",
    "\n"
   ]
  },
  {
   "cell_type": "code",
   "execution_count": 5,
   "metadata": {},
   "outputs": [
    {
     "name": "stdout",
     "output_type": "stream",
     "text": [
      "I'm Faheem\n",
      "I'm Faheem\n"
     ]
    }
   ],
   "source": [
    "# string boundries\n",
    "# \"'\", '\"' use\n",
    "name:str = \"I'm Faheem\"\n",
    "print(name)\n",
    "# backslash \\ IS USED  for the conversion of any special character to normal character\n",
    "name2:str = 'I\\'m Faheem'\n",
    "print(name2)"
   ]
  },
  {
   "cell_type": "code",
   "execution_count": 16,
   "metadata": {},
   "outputs": [
    {
     "name": "stdout",
     "output_type": "stream",
     "text": [
      "PIAIC Student card\n",
      "Student Name: Faheem Saif\n",
      " Age: 23\n",
      " Education: BS Computer science\n",
      " Print the card  \n"
     ]
    }
   ],
   "source": [
    "# student  card\n",
    "fname:str = \"Faheem\"\n",
    "lname:str = \"Saif\"\n",
    "age:int = 23\n",
    "education:str  = \"BS Computer science\"\n",
    "card:any = \"PIAIC Student card\\nStudent Name: \" +fname + \" \"+lname + \\\n",
    "      \"\\n Age: \" + str(age) +\"\\n Education: \" + education + \\\n",
    "\"\\n Print the card  \"\n",
    "print(card)"
   ]
  },
  {
   "cell_type": "markdown",
   "metadata": {},
   "source": [
    "## Multiline string add \"\"\"\" \"\"\"\",''' '''\n",
    "and F-string Method"
   ]
  },
  {
   "cell_type": "code",
   "execution_count": 2,
   "metadata": {},
   "outputs": [
    {
     "name": "stdout",
     "output_type": "stream",
     "text": [
      "PIAIC Student card\n",
      "Student Name: Faheem Saif\n",
      " Age: 23 \n",
      " Education: BS Computer science\n",
      "\" Print the card\"  \n"
     ]
    }
   ],
   "source": [
    "# student  card\n",
    "fname:str = \"Faheem\"\n",
    "lname:str = \"Saif\"\n",
    "age:int = 23\n",
    "education:str  = \"BS Computer science\"\n",
    "card:any = f\"\"\"PIAIC Student card\n",
    "Student Name: {fname+\" \"+ lname}\n",
    " Age: {age} \n",
    " Education: {education}\n",
    "\" Print the card\"  \"\"\"\n",
    "print(card)"
   ]
  },
  {
   "cell_type": "markdown",
   "metadata": {},
   "source": [
    "## F_string and jinja style"
   ]
  },
  {
   "cell_type": "code",
   "execution_count": 5,
   "metadata": {},
   "outputs": [
    {
     "name": "stdout",
     "output_type": "stream",
     "text": [
      "PIAIC Student card\n",
      "Student Name: Faheem Saif\n",
      " Age: 23 \n",
      " Education: BS Computer science\n",
      "\" Print the card\"  \n"
     ]
    }
   ],
   "source": [
    "fname:str = \"Faheem\"\n",
    "lname:str = \"Saif\"\n",
    "age:int = 23\n",
    "education:str  = \"BS Computer science\"\n",
    "card:any = f\"\"\"PIAIC Student card\n",
    "Student Name: {fname+\" \"+ lname}\n",
    " Age: {age} \n",
    " Education: {education}\n",
    "\" Print the card\"  \"\"\"\n",
    "print(card)"
   ]
  },
  {
   "cell_type": "markdown",
   "metadata": {},
   "source": [
    "\n",
    "## jinja style {{}}\n"
   ]
  },
  {
   "cell_type": "code",
   "execution_count": null,
   "metadata": {},
   "outputs": [],
   "source": []
  },
  {
   "cell_type": "code",
   "execution_count": null,
   "metadata": {},
   "outputs": [],
   "source": [
    "\n",
    "\"\"\"\n",
    "name: {{name}}\n",
    "\"\"\""
   ]
  },
  {
   "cell_type": "code",
   "execution_count": 6,
   "metadata": {},
   "outputs": [
    {
     "data": {
      "text/plain": [
       "['__add__',\n",
       " '__class__',\n",
       " '__contains__',\n",
       " '__delattr__',\n",
       " '__dir__',\n",
       " '__doc__',\n",
       " '__eq__',\n",
       " '__format__',\n",
       " '__ge__',\n",
       " '__getattribute__',\n",
       " '__getitem__',\n",
       " '__getnewargs__',\n",
       " '__getstate__',\n",
       " '__gt__',\n",
       " '__hash__',\n",
       " '__init__',\n",
       " '__init_subclass__',\n",
       " '__iter__',\n",
       " '__le__',\n",
       " '__len__',\n",
       " '__lt__',\n",
       " '__mod__',\n",
       " '__mul__',\n",
       " '__ne__',\n",
       " '__new__',\n",
       " '__reduce__',\n",
       " '__reduce_ex__',\n",
       " '__repr__',\n",
       " '__rmod__',\n",
       " '__rmul__',\n",
       " '__setattr__',\n",
       " '__sizeof__',\n",
       " '__str__',\n",
       " '__subclasshook__',\n",
       " 'capitalize',\n",
       " 'casefold',\n",
       " 'center',\n",
       " 'count',\n",
       " 'encode',\n",
       " 'endswith',\n",
       " 'expandtabs',\n",
       " 'find',\n",
       " 'format',\n",
       " 'format_map',\n",
       " 'index',\n",
       " 'isalnum',\n",
       " 'isalpha',\n",
       " 'isascii',\n",
       " 'isdecimal',\n",
       " 'isdigit',\n",
       " 'isidentifier',\n",
       " 'islower',\n",
       " 'isnumeric',\n",
       " 'isprintable',\n",
       " 'isspace',\n",
       " 'istitle',\n",
       " 'isupper',\n",
       " 'join',\n",
       " 'ljust',\n",
       " 'lower',\n",
       " 'lstrip',\n",
       " 'maketrans',\n",
       " 'partition',\n",
       " 'removeprefix',\n",
       " 'removesuffix',\n",
       " 'replace',\n",
       " 'rfind',\n",
       " 'rindex',\n",
       " 'rjust',\n",
       " 'rpartition',\n",
       " 'rsplit',\n",
       " 'rstrip',\n",
       " 'split',\n",
       " 'splitlines',\n",
       " 'startswith',\n",
       " 'strip',\n",
       " 'swapcase',\n",
       " 'title',\n",
       " 'translate',\n",
       " 'upper',\n",
       " 'zfill']"
      ]
     },
     "execution_count": 6,
     "metadata": {},
     "output_type": "execute_result"
    }
   ],
   "source": [
    "# # string methods\n",
    "# (for i dir(str) if \"__\" not in i)\n"
   ]
  },
  {
   "cell_type": "code",
   "execution_count": 7,
   "metadata": {},
   "outputs": [
    {
     "data": {
      "text/plain": [
       "'value for a= 2 and value of b =3'"
      ]
     },
     "execution_count": 7,
     "metadata": {},
     "output_type": "execute_result"
    }
   ],
   "source": [
    "# {} placceholder\n",
    "a=2 \n",
    "b=3\n",
    "\"value for a= {} and value of b ={}\".format(a,b)"
   ]
  },
  {
   "cell_type": "code",
   "execution_count": 12,
   "metadata": {},
   "outputs": [
    {
     "name": "stdout",
     "output_type": "stream",
     "text": [
      "PIAIC Student card\n",
      "Student Name: Faheem\n",
      " Age: Saif \n",
      " Education: 23\n",
      "\" Print the card\"  \n"
     ]
    }
   ],
   "source": [
    "#this is by the triple quoted string and format method\n",
    "fname:str = \"Faheem\"\n",
    "lname:str = \"Saif\"\n",
    "age:int = 23\n",
    "education:str  = \"BS Computer science\"\n",
    "card:any = \"\"\"PIAIC Student card\n",
    "Student Name: {1}\n",
    " Age: {0} \n",
    " Education: {2}\n",
    "\" Print the card\"  \"\"\".format(lname,fname,age,education)\n",
    "print(card)"
   ]
  },
  {
   "cell_type": "markdown",
   "metadata": {},
   "source": [
    "## predefined global function\n",
    "* dir\n",
    "* print\n",
    "* len()\n",
    "* id()"
   ]
  },
  {
   "cell_type": "code",
   "execution_count": 14,
   "metadata": {},
   "outputs": [
    {
     "name": "stdout",
     "output_type": "stream",
     "text": [
      "['capitalize', 'casefold', 'center', 'count', 'encode', 'endswith', 'expandtabs', 'find', 'format', 'format_map', 'index', 'isalnum', 'isalpha', 'isascii', 'isdecimal', 'isdigit', 'isidentifier', 'islower', 'isnumeric', 'isprintable', 'isspace', 'istitle', 'isupper', 'join', 'ljust', 'lower', 'lstrip', 'maketrans', 'partition', 'removeprefix', 'removesuffix', 'replace', 'rfind', 'rindex', 'rjust', 'rpartition', 'rsplit', 'rstrip', 'split', 'splitlines', 'startswith', 'strip', 'swapcase', 'title', 'translate', 'upper', 'zfill']\n",
      "47\n"
     ]
    }
   ],
   "source": [
    "a:list[str]= [i for i in dir(str ) if \"__\" not in i]\n",
    "print(a)\n",
    "print(len(a))"
   ]
  },
  {
   "cell_type": "markdown",
   "metadata": {},
   "source": [
    "## Methods of string\n"
   ]
  },
  {
   "cell_type": "code",
   "execution_count": 15,
   "metadata": {},
   "outputs": [
    {
     "data": {
      "text/plain": [
       "'   Faheem         saif       '"
      ]
     },
     "metadata": {},
     "output_type": "display_data"
    },
    {
     "data": {
      "text/plain": [
       "'Faheem         saif       '"
      ]
     },
     "metadata": {},
     "output_type": "display_data"
    },
    {
     "data": {
      "text/plain": [
       "'   Faheem         saif'"
      ]
     },
     "metadata": {},
     "output_type": "display_data"
    }
   ],
   "source": [
    "name: str = \"   Faheem         saif       \"\n",
    "\n",
    "display(name)\n",
    "display(name.lstrip())\n",
    "display(name.rstrip())"
   ]
  },
  {
   "cell_type": "markdown",
   "metadata": {},
   "source": [
    "## By re method "
   ]
  },
  {
   "cell_type": "code",
   "execution_count": 26,
   "metadata": {},
   "outputs": [
    {
     "data": {
      "text/plain": [
       "'           Faheem           saif    '"
      ]
     },
     "metadata": {},
     "output_type": "display_data"
    },
    {
     "data": {
      "text/plain": [
       "' Faheem saif '"
      ]
     },
     "metadata": {},
     "output_type": "display_data"
    }
   ],
   "source": [
    "import re \n",
    "name: str = \"           Faheem           saif    \" \n",
    "display(name)\n",
    "\n",
    "name1: str = re.sub(' {2,100}',' ',name )\n",
    "display(name1)"
   ]
  }
 ],
 "metadata": {
  "kernelspec": {
   "display_name": "base",
   "language": "python",
   "name": "python3"
  },
  "language_info": {
   "codemirror_mode": {
    "name": "ipython",
    "version": 3
   },
   "file_extension": ".py",
   "mimetype": "text/x-python",
   "name": "python",
   "nbconvert_exporter": "python",
   "pygments_lexer": "ipython3",
   "version": "3.11.5"
  }
 },
 "nbformat": 4,
 "nbformat_minor": 2
}
