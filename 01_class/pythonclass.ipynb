{
 "cells": [
  {
   "cell_type": "markdown",
   "metadata": {},
   "source": [
    "Hello I'm Faheem And ready to start python with Static Types\n",
    "\n"
   ]
  },
  {
   "cell_type": "code",
   "execution_count": 4,
   "metadata": {},
   "outputs": [
    {
     "name": "stdout",
     "output_type": "stream",
     "text": [
      "Faheem saif\n"
     ]
    }
   ],
   "source": [
    "\n",
    "name:str = \"Faheem saif\"\n",
    "print(name)\n"
   ]
  },
  {
   "cell_type": "markdown",
   "metadata": {},
   "source": [
    "#2nd class main topic is string \n",
    "\n"
   ]
  },
  {
   "cell_type": "code",
   "execution_count": 5,
   "metadata": {},
   "outputs": [
    {
     "name": "stdout",
     "output_type": "stream",
     "text": [
      "I'm Faheem\n",
      "I'm Faheem\n"
     ]
    }
   ],
   "source": [
    "# string boundries\n",
    "# \"'\", '\"' use\n",
    "name:str = \"I'm Faheem\"\n",
    "print(name)\n",
    "# backslash \\ IS USED  for the conversion of any special character to normal character\n",
    "name2:str = 'I\\'m Faheem'\n",
    "print(name2)"
   ]
  },
  {
   "cell_type": "code",
   "execution_count": 16,
   "metadata": {},
   "outputs": [
    {
     "name": "stdout",
     "output_type": "stream",
     "text": [
      "PIAIC Student card\n",
      "Student Name: Faheem Saif\n",
      " Age: 23\n",
      " Education: BS Computer science\n",
      " Print the card  \n"
     ]
    }
   ],
   "source": [
    "# student  card\n",
    "fname:str = \"Faheem\"\n",
    "lname:str = \"Saif\"\n",
    "age:int = 23\n",
    "education:str  = \"BS Computer science\"\n",
    "card:any = \"PIAIC Student card\\nStudent Name: \" +fname + \" \"+lname + \\\n",
    "      \"\\n Age: \" + str(age) +\"\\n Education: \" + education + \\\n",
    "\"\\n Print the card  \"\n",
    "print(card)"
   ]
  },
  {
   "cell_type": "markdown",
   "metadata": {},
   "source": [
    "## Multiline string add \"\"\"\" \"\"\"\",''' '''\n",
    "and F-string Method"
   ]
  },
  {
   "cell_type": "code",
   "execution_count": 22,
   "metadata": {},
   "outputs": [
    {
     "name": "stdout",
     "output_type": "stream",
     "text": [
      "PIAIC Student card\n",
      "Student Name: Faheem Saif\n",
      " Age: 23 \n",
      " Education: BS Computer science\n",
      "\" Print the card  \n"
     ]
    }
   ],
   "source": [
    "# student  card\n",
    "fname:str = \"Faheem\"\n",
    "lname:str = \"Saif\"\n",
    "age:int = 23\n",
    "education:str  = \"BS Computer science\"\n",
    "card:any = f\"\"\"PIAIC Student card\n",
    "Student Name: {fname+\" \"+ lname}\n",
    " Age: {age} \n",
    " Education: {education}\n",
    "\" Print the card  \"\"\"\n",
    "print(card)"
   ]
  },
  {
   "cell_type": "markdown",
   "metadata": {},
   "source": [
    "## F_string and jinja style"
   ]
  },
  {
   "cell_type": "code",
   "execution_count": null,
   "metadata": {},
   "outputs": [],
   "source": [
    "fname:str = \"Faheem\"\n",
    "lname:str = \"Saif\"\n",
    "age:int = 23\n",
    "education:str  = \"BS Computer science\"\n",
    "card:any = f\"\"\"PIAIC Student card\n",
    "Student Name: {fname+\" \"+ lname}\n",
    " Age: {age} \n",
    " Education: {education}\n",
    "\" Print the card  \"\"\"\n",
    "print(card)"
   ]
  }
 ],
 "metadata": {
  "kernelspec": {
   "display_name": "base",
   "language": "python",
   "name": "python3"
  },
  "language_info": {
   "codemirror_mode": {
    "name": "ipython",
    "version": 3
   },
   "file_extension": ".py",
   "mimetype": "text/x-python",
   "name": "python",
   "nbconvert_exporter": "python",
   "pygments_lexer": "ipython3",
   "version": "3.11.5"
  }
 },
 "nbformat": 4,
 "nbformat_minor": 2
}
